{
  "nbformat": 4,
  "nbformat_minor": 0,
  "metadata": {
    "colab": {
      "provenance": [],
      "mount_file_id": "12cpLOvembUr1CBAnWawNwU3kJJmkI_zG",
      "authorship_tag": "ABX9TyPoDlUFcqVgbY8E/iam7ipH",
      "include_colab_link": true
    },
    "kernelspec": {
      "name": "python3",
      "display_name": "Python 3"
    },
    "language_info": {
      "name": "python"
    }
  },
  "cells": [
    {
      "cell_type": "markdown",
      "metadata": {
        "id": "view-in-github",
        "colab_type": "text"
      },
      "source": [
        "<a href=\"https://colab.research.google.com/github/koji0322/Jules-Test/blob/main/gemini_cli_main.ipynb\" target=\"_parent\"><img src=\"https://colab.research.google.com/assets/colab-badge.svg\" alt=\"Open In Colab\"/></a>"
      ]
    },
    {
      "cell_type": "code",
      "execution_count": null,
      "metadata": {
        "id": "CGkfNYiRpZIn"
      },
      "outputs": [],
      "source": []
    },
    {
      "cell_type": "code",
      "metadata": {
        "id": "fde72bf2"
      },
      "source": [
        "!cp /content/gemini_cli_setup.txt /content/gemini_cli_setup_copy.txt"
      ],
      "execution_count": 5,
      "outputs": []
    },
    {
      "cell_type": "code",
      "metadata": {
        "id": "b3fcc17e"
      },
      "source": [
        "!cp /content/gemini_cli_setup.txt /content/gemini_cli_setup_copy2.txt"
      ],
      "execution_count": 6,
      "outputs": []
    },
    {
      "cell_type": "code",
      "metadata": {
        "id": "5c5cd375"
      },
      "source": [
        "original_content = !cat /content/gemini_cli_setup_original.txt\n",
        "original_content = \"\\n\".join(original_content)"
      ],
      "execution_count": 7,
      "outputs": []
    },
    {
      "cell_type": "code",
      "metadata": {
        "colab": {
          "base_uri": "https://localhost:8080/"
        },
        "id": "c639d153",
        "outputId": "bd62194d-acc7-4710-9f7c-a76b2f7a0f8f"
      },
      "source": [
        "%%writefile /content/gemini_cli_setup.txt\n",
        "{original_content}"
      ],
      "execution_count": 8,
      "outputs": [
        {
          "output_type": "stream",
          "name": "stdout",
          "text": [
            "Overwriting /content/gemini_cli_setup.txt\n"
          ]
        }
      ]
    },
    {
      "cell_type": "code",
      "metadata": {
        "colab": {
          "base_uri": "https://localhost:8080/"
        },
        "collapsed": true,
        "id": "ff4c2146",
        "outputId": "ee68ef13-6bcb-42a7-ff83-c98f627b96cc"
      },
      "source": [
        "with open('/content/gemini_cli_setup_original.txt', 'r') as f:\n",
        "    original_content = f.read()\n",
        "\n",
        "with open('/content/gemini_cli_setup.txt', 'r') as f:\n",
        "    current_content = f.read()\n",
        "\n",
        "print(\"--- Content of gemini_cli_setup_original.txt ---\")\n",
        "print(original_content)\n",
        "print(\"\\n--- Content of gemini_cli_setup.txt ---\")\n",
        "print(current_content)"
      ],
      "execution_count": 9,
      "outputs": [
        {
          "output_type": "stream",
          "name": "stdout",
          "text": [
            "--- Content of gemini_cli_setup_original.txt ---\n",
            "### node(とnpm?)がインストールされているか確認（初回のみ）(on notebook)(on terminalも可（!を外して実行）)\n",
            "\n",
            "!node -v\n",
            "!npm -v\n",
            "\n",
            "# terminal で動かす場合\n",
            "# node -v\n",
            "# npm -v\n",
            "\n",
            "# notebook 側では、!　を付けるとターミナルコマンドが使える。\n",
            "\n",
            "\n",
            "\n",
            "### nodeがインストールされていない場合（初回のみ）(on terminal)\n",
            "\n",
            "%%bash\n",
            "dpkg --configure -a\n",
            "apt-get update -y\n",
            "apt-get install -y ca-certificates curl gnupg\n",
            "mkdir -p /etc/apt/keyrings\n",
            "curl -fsSL https://deb.nodesource.com/gpgkey/nodesource-repo.gpg.key \\\n",
            "  | gpg --dearmor -o /etc/apt/keyrings/nodesource.gpg\n",
            "\n",
            "NODE_MAJOR=22\n",
            "echo \"deb [signed-by=/etc/apt/keyrings/nodesource.gpg] \\\n",
            "https://deb.nodesource.com/node_$NODE_MAJOR.x nodistro main\" \\\n",
            "  > /etc/apt/sources.list.d/nodesource.list\n",
            "\n",
            "apt-get update -y\n",
            "# 古いnodejs関連パッケージをアンインストール（オプション）\n",
            "# dpkg --remove --force-remove-reinstreq nodejs libnode-dev libnode72:amd64\n",
            "\n",
            "apt-get install -y nodejs\n",
            "\n",
            "\n",
            "\n",
            "### node(とnpm?)がインストールされているか確認(on notebook)\n",
            "\n",
            "!node -v\n",
            "!npm -v\n",
            "\n",
            "\n",
            "\n",
            "### google 認証用の仕込みその１(on terminal)\n",
            "\n",
            "cat << 'EOF' > /usr/local/bin/url-logger.sh\n",
            "#!/bin/bash\n",
            "URL_FILE=\"$HOME/gemini_auth_url.txt\"\n",
            "touch \"$URL_FILE\"\n",
            "echo \"$(date '+%Y-%m-%d %H:%M:%S') - $1\" >> \"$URL_FILE\"\n",
            "echo \"URL would be opened: $1\"\n",
            "EOF\n",
            "chmod +x /usr/local/bin/url-logger.sh\n",
            "\n",
            "\n",
            "\n",
            "### google 認証用の仕込みその2(on terminal)\n",
            "\n",
            "export BROWSER=/usr/local/bin/url-logger.sh\n",
            "\n",
            "\n",
            "\n",
            "### gemini-CLI　install(初回)(on terminal)\n",
            "\n",
            "npm install -g @google/gemini-cli\n",
            "\n",
            "# インストール後、エンター押すなどして、google 認証へ\n",
            "\n",
            "\n",
            "\n",
            "### gemini起動(2回目以後)(on terminal)\n",
            "\n",
            "gemini\n",
            "\n",
            "\n",
            "\n",
            "### google認証01(on notebook)\n",
            "\n",
            "!cat ~/gemini_auth_url.txt\n",
            "# 出力例: 2025-07-06 14:22:30 - https://accounts.google.com/o/oauth2/...\n",
            "\n",
            "\n",
            "\n",
            "### google認証02(on notebook)\n",
            "\n",
            "# セルの下に出るリンクをクリック\n",
            "# 出力例: 2025-07-06 14:22:30 - https://accounts.google.com/o/oauth2/...\n",
            "\n",
            "\n",
            "\n",
            "### google認証02(on browser)\n",
            "\n",
            "# ブラウザでgoogle認証を進めるが、途中でストップする。\n",
            "# その画面の、URLをcopy\n",
            "\n",
            "\n",
            "\n",
            "### google認証03(on notebook)\n",
            "\n",
            "# そのURLを下記に貼り付けて実行\n",
            "!curl \"url\"\n",
            "\n",
            "# !curl \"http://localhost:45989/oauth2callback?state=f373fa22031f8b4b477907500820c402dc724f3dcf7fbdf18fe3a70f1d3a29ee&code=4/0AVMBsJjsQnr0yFbH6rr97MJcUV1lUBtErexf0D316eHfKD7yiUPPQNBHQZuFJGIHmlHyDQ&scope=email%20profile%20https://www.googleapis.com/auth/cloud-platform%20https://www.googleapis.com/auth/userinfo.email%20https://www.googleapis.com/auth/userinfo.profile%20openid&authuser=0&prompt=consent\"\n",
            "\n",
            "\n",
            "\n",
            "### gemini CLI ターミナルで無事スタートのはず。\n",
            "\n",
            "\n",
            "\n",
            "\n",
            "\n",
            "\n",
            "\n",
            "--- Content of gemini_cli_setup.txt ---\n",
            "# Gemini CLI セットアップ手順\n",
            "\n",
            "このファイルには、Google Gemini CLI をセットアップおよび使用するための手順がまとめられています。\n",
            "\n",
            "---\n",
            "\n",
            "## 1. Node.js と npm の確認とインストール\n",
            "\n",
            "Gemini CLI は Node.js 環境で動作します。まだインストールされていない場合は、以下の手順でインストールしてください。\n",
            "\n",
            "### Node.js と npm のバージョン確認\n",
            "\n",
            "以下のコマンドを実行して、Node.js と npm がインストールされているか、およびバージョンを確認します。これらのコマンドは**ノートブック**または**ターミナル**のどちらでも実行できます。ノートブックで実行する場合はコマンドの前に `!` を付けます。\n",
            "\n",
            "**ノートブックで実行:**\n",
            "```bash\n",
            "!node -v\n",
            "!npm -v\n",
            "```\n",
            "\n",
            "**ターミナルで実行:**\n",
            "```bash\n",
            "node -v\n",
            "npm -v\n",
            "```\n",
            "\n",
            "### Node.js のインストール (インストールされていない場合)\n",
            "\n",
            "もし上記のコマンドでバージョンが表示されない場合や、古いバージョンの場合は、以下の手順で Node.js (推奨バージョン) をインストールします。\n",
            "\n",
            "この手順は**ターミナル**で実行することを推奨します。ノートブックで実行する場合は `%%bash` マジックコマンドを使用します。\n",
            "\n",
            "**ノートブックで実行:**\n",
            "```bash\n",
            "%%bash\n",
            "# システムのパッケージリストを更新\n",
            "apt-get update -y\n",
            "\n",
            "# 必要なパッケージをインストール\n",
            "apt-get install -y ca-certificates curl gnupg\n",
            "\n",
            "# NodeSource の GPG キーを追加\n",
            "mkdir -p /etc/apt/keyrings\n",
            "curl -fsSL https://deb.nodesource.com/gpgkey/nodesource-repo.gpg.key | gpg --dearmor -o /etc/apt/keyrings/nodesource.gpg\n",
            "\n",
            "# NodeSource のリポジトリを追加 (例: Node.js v22)\n",
            "NODE_MAJOR=22\n",
            "echo \"deb [signed-by=/etc/apt/keyrings/nodesource.gpg] https://deb.nodesource.com/node_$NODE_MAJOR.x nodistro main\" > /etc/apt/sources.list.d/nodesource.list\n",
            "\n",
            "# 再度パッケージリストを更新して、新しいリポジトリを認識させる\n",
            "apt-get update -y\n",
            "\n",
            "# Node.js をインストール\n",
            "apt-get install -y nodejs\n",
            "\n",
            "# インストール後、再度バージョンを確認してください\n",
            "node -v\n",
            "npm -v\n",
            "```\n",
            "\n",
            "**ターミナルで実行:**\n",
            "```bash\n",
            "dpkg --configure -a\n",
            "apt-get update -y\n",
            "apt-get install -y ca-certificates curl gnupg\n",
            "mkdir -p /etc/apt/keyrings\n",
            "curl -fsSL https://deb.nodesource.com/gpgkey/nodesource-repo.gpg.key   | gpg --dearmor -o /etc/apt/keyrings/nodesource.gpg\n",
            "\n",
            "NODE_MAJOR=22\n",
            "echo \"deb [signed-by=/etc/apt/keyrings/nodesource.gpg] https://deb.nodesource.com/node_$NODE_MAJOR.x nodistro main\"   > /etc/apt/sources.list.d/nodesource.list\n",
            "\n",
            "apt-get update -y\n",
            "# 古いnodejs関連パッケージをアンインストール（オプション）\n",
            "# dpkg --remove --force-remove-reinstreq nodejs libnode-dev libnode72:amd64\n",
            "\n",
            "apt-get install -y nodejs\n",
            "\n",
            "node -v\n",
            "npm -v\n",
            "```\n",
            "\n",
            "---\n",
            "\n",
            "## 2. Gemini CLI のインストール\n",
            "\n",
            "Node.js のインストールが完了したら、以下のコマンドで Gemini CLI をグローバルにインストールします。\n",
            "\n",
            "このコマンドは**ターミナル**で実行することを推奨します。ノートブックで実行する場合はコマンドの前に `!` を付けます。\n",
            "\n",
            "**ノートブックで実行:**\n",
            "```bash\n",
            "!npm install -g @google/gemini-cli\n",
            "```\n",
            "\n",
            "**ターミナルで実行:**\n",
            "```bash\n",
            "npm install -g @google/gemini-cli\n",
            "```\n",
            "\n",
            "インストール後、Gemini CLI の初期設定と認証プロセスに進みます。\n",
            "\n",
            "---\n",
            "\n",
            "## 3. Google アカウント認証設定\n",
            "\n",
            "Gemini CLI を使用するには、Google アカウントでの認証が必要です。以下の手順で認証を行います。\n",
            "\n",
            "### 認証用 URL ロガーの設定\n",
            "\n",
            "認証プロセスでブラウザが開く代わりに、認証用 URL をファイルに記録するためのスクリプトを設定します。\n",
            "\n",
            "この手順は**ターミナル**で実行することを推奨します。ノートブックで実行する場合は `%%bash` マジックコマンドを使用します。\n",
            "\n",
            "**ノートブックで実行:**\n",
            "```bash\n",
            "%%bash\n",
            "cat << 'EOF' > /usr/local/bin/url-logger.sh\n",
            "#!/bin/bash\n",
            "URL_FILE=\"$HOME/gemini_auth_url.txt\"\n",
            "touch \"$URL_FILE\"\n",
            "echo \"$(date '+%Y-%m-%d %H:%M:%S') - $1\" >> \"$URL_FILE\"\n",
            "echo \"認証URLがファイルに記録されました: $URL_FILE\"\n",
            "EOF\n",
            "chmod +x /usr/local/bin/url-logger.sh\n",
            "```\n",
            "\n",
            "**ターミナルで実行:**\n",
            "```bash\n",
            "cat << 'EOF' > /usr/local/bin/url-logger.sh\n",
            "#!/bin/bash\n",
            "URL_FILE=\"$HOME/gemini_auth_url.txt\"\n",
            "touch \"$URL_FILE\"\n",
            "echo \"$(date '+%Y-%m-%d %H:%M:%S') - $1\" >> \"$URL_FILE\"\n",
            "echo \"認証URLがファイルに記録されました: $URL_FILE\"\n",
            "EOF\n",
            "chmod +x /usr/local/bin/url-logger.sh\n",
            "```\n",
            "\n",
            "### BROWSER 環境変数の設定\n",
            "\n",
            "認証にカスタムスクリプトを使用するように環境変数を設定します。\n",
            "\n",
            "このコマンドは**ターミナル**で実行することを推奨します。ノートブックで実行する場合はコマンドの前に `!` を付けます。ただし、ノートブックのセルでの `export` はそのセル内でのみ有効な場合があるため、ターミナルでの実行がより確実です。\n",
            "\n",
            "**ノートブックで実行:**\n",
            "```bash\n",
            "!export BROWSER=/usr/local/bin/url-logger.sh\n",
            "```\n",
            "\n",
            "**ターミナルで実行:**\n",
            "```bash\n",
            "export BROWSER=/usr/local/bin/url-logger.sh\n",
            "```\n",
            "\n",
            "### Gemini CLI の初回起動と認証 URL の取得\n",
            "\n",
            "以下のコマンドで Gemini CLI を起動し、認証プロセスを開始します。ブラウザは開きませんが、認証用の URL が `/root/gemini_auth_url.txt` ファイルに記録されます。\n",
            "\n",
            "このコマンドは**ターミナル**で実行することを推奨します。ノートブックで実行する場合はコマンドの前に `!` を付けます。\n",
            "\n",
            "**ノートブックで実行:**\n",
            "```bash\n",
            "!gemini\n",
            "```\n",
            "\n",
            "**ターミナルで実行:**\n",
            "```bash\n",
            "gemini\n",
            "```\n",
            "\n",
            "### 認証 URL の確認\n",
            "\n",
            "記録された認証 URL を以下のコマンドで確認します。出力された URL をコピーしてください。これらのコマンドは**ノートブック**または**ターミナル**のどちらでも実行できます。ノートブックで実行する場合はコマンドの前に `!` を付けます。\n",
            "\n",
            "**ノートブックで実行:**\n",
            "```bash\n",
            "!cat ~/gemini_auth_url.txt\n",
            "# 出力例: 2025-07-06 14:22:30 - https://accounts.google.com/o/oauth2/...\n",
            "```\n",
            "\n",
            "**ターミナルで実行:**\n",
            "```bash\n",
            "cat ~/gemini_auth_url.txt\n",
            "# 出力例: 2025-07-06 14:22:30 - https://accounts.google.com/o/oauth2/...\n",
            "```\n",
            "\n",
            "### ブラウザでの認証とリダイレクト URL のコピー\n",
            "\n",
            "**この手順はウェブブラウザで行います。**\n",
            "\n",
            "1.  上記のコマンドで出力された URL をウェブブラウザで開きます。\n",
            "2.  Google アカウントへのログインと認証の許可を行います。\n",
            "3.  認証が完了すると、`localhost` にリダイレクトしようとしますが、接続できません。その際、ブラウザのアドレスバーに表示されている URL を**すべて**コピーしてください。この URL には認証コードが含まれています。\n",
            "\n",
            "### 認証コードを使用した認証の完了\n",
            "\n",
            "ブラウザでコピーした URL を以下の `curl` コマンドの`\"ここにブラウザでコピーしたURLを貼り付ける\"` 部分に貼り付けて実行します。これらのコマンドは**ノートブック**または**ターミナル**のどちらでも実行できます。ノートブックで実行する場合はコマンドの前に `!` を付けます。\n",
            "\n",
            "**ノートブックで実行:**\n",
            "```bash\n",
            "!curl \"ここにブラウザでコピーしたURLを貼り付ける\"\n",
            "\n",
            "# 例:\n",
            "# !curl \"http://localhost:45989/oauth2callback?state=f373fa22031f8b4b477907500820c402dc724f3dcf7fbdf18fe3a70f1d3a29ee&code=4/0AVMBsJjsQnr0yFbH6rr97MJcUV1lUBtErexf0D316eHfKD7yiUPPQNBHQZuFJGIHmlHyDQ&scope=...\"\n",
            "```\n",
            "\n",
            "**ターミナルで実行:**\n",
            "```bash\n",
            "curl \"ここにブラウザでコピーしたURLを貼り付ける\"\n",
            "\n",
            "# 例:\n",
            "# curl \"http://localhost:45989/oauth2callback?state=f373fa22031f8b4b477907500820c402dc724f3dcf7fbdf18fe3a70f1d3a29ee&code=4/0AVMBsJjsQnr0yFbH6rr97MJcUV1lUBtErexf0D316eHfKD7yiUPPQNBHQZuFJGIHmlHyDQ&scope=...\"\n",
            "```\n",
            "\n",
            "このコマンドの実行により、認証プロセスが完了し、Gemini CLI が使用可能になります。\n",
            "\n",
            "---\n",
            "\n",
            "## 4. Gemini CLI の使用\n",
            "\n",
            "認証が完了すれば、以降は以下のコマンドをターミナルまたはノートブックのコードセルで実行するだけで Gemini CLI を起動し、対話的に Gemini モデルとやり取りできます。\n",
            "\n",
            "**ノートブックで実行:**\n",
            "```bash\n",
            "!gemini\n",
            "```\n",
            "\n",
            "**ターミナルで実行:**\n",
            "```bash\n",
            "gemini\n",
            "```\n",
            "\n",
            "このコマンドを実行すると、Gemini CLI のインタラクティブセッションが開始されます。プロンプトが表示されたら、Gemini モデルへの入力を開始できます。\n",
            "\n"
          ]
        }
      ]
    },
    {
      "cell_type": "code",
      "metadata": {
        "id": "7b3b5bc0"
      },
      "source": [
        "!cp /content/gemini_cli_setup.txt /content/gemini_cli_setup_copy3.txt"
      ],
      "execution_count": 10,
      "outputs": []
    },
    {
      "cell_type": "code",
      "metadata": {
        "id": "6e21ca61"
      },
      "source": [
        "!cp /content/gemini_cli_setup.txt /content/gemini_cli_startup_subsequent.txt"
      ],
      "execution_count": 11,
      "outputs": []
    },
    {
      "cell_type": "code",
      "metadata": {
        "colab": {
          "base_uri": "https://localhost:8080/"
        },
        "id": "fb314347",
        "outputId": "f0be18ab-39f7-4d0b-aa18-920e5ec5687b"
      },
      "source": [
        "from google.colab import drive\n",
        "drive.mount('/content/drive')"
      ],
      "execution_count": 12,
      "outputs": [
        {
          "output_type": "stream",
          "name": "stdout",
          "text": [
            "Drive already mounted at /content/drive; to attempt to forcibly remount, call drive.mount(\"/content/drive\", force_remount=True).\n"
          ]
        }
      ]
    },
    {
      "cell_type": "code",
      "metadata": {
        "id": "ac1632d1"
      },
      "source": [
        "!cp /content/gemini_cli_setup.txt /content/drive/MyDrive/Colab\\ Notebooks/gemini-cli-setup/\n",
        "!cp /content/gemini_cli_setup_original.txt /content/drive/MyDrive/Colab\\ Notebooks/gemini-cli-setup/\n",
        "!cp /content/gemini_cli_startup_subsequent.txt /content/drive/MyDrive/Colab\\ Notebooks/gemini-cli-setup/"
      ],
      "execution_count": 13,
      "outputs": []
    },
    {
      "cell_type": "code",
      "source": [
        "!cat ~/gemini_auth_url.txt\n",
        "# 出力例: 2025-07-06 14:22:30 - https://accounts.google.com/o/oauth2/..."
      ],
      "metadata": {
        "colab": {
          "base_uri": "https://localhost:8080/"
        },
        "id": "x-gK0KNS2vGJ",
        "outputId": "9f4822c8-9891-4ed3-a9bb-cc2348377540"
      },
      "execution_count": 15,
      "outputs": [
        {
          "output_type": "stream",
          "name": "stdout",
          "text": [
            "2025-07-07 03:08:41 - https://accounts.google.com/o/oauth2/v2/auth?redirect_uri=http%3A%2F%2Flocalhost%3A34795%2Foauth2callback&access_type=offline&scope=https%3A%2F%2Fwww.googleapis.com%2Fauth%2Fcloud-platform%20https%3A%2F%2Fwww.googleapis.com%2Fauth%2Fuserinfo.email%20https%3A%2F%2Fwww.googleapis.com%2Fauth%2Fuserinfo.profile&state=f78581f22cd35455d4e9fab41d940edee06bfbf70fa00fe93a6a7cabb9c3a64f&response_type=code&client_id=681255809395-oo8ft2oprdrnp9e3aqf6av3hmdib135j.apps.googleusercontent.com\n"
          ]
        }
      ]
    },
    {
      "cell_type": "code",
      "source": [
        "!curl \"http://localhost:34795/oauth2callback?state=f78581f22cd35455d4e9fab41d940edee06bfbf70fa00fe93a6a7cabb9c3a64f&code=4/0AVMBsJjcQletCnyK4Ag1sJe2ubnd28V7d7Ng79k87j8CWfuNNqp2ZUI9sQV-Ou8371Lz0w&scope=email%20profile%20https://www.googleapis.com/auth/cloud-platform%20https://www.googleapis.com/auth/userinfo.email%20https://www.googleapis.com/auth/userinfo.profile%20openid&authuser=0&prompt=consent\""
      ],
      "metadata": {
        "id": "gVezxbJL2_Lb"
      },
      "execution_count": 16,
      "outputs": []
    },
    {
      "cell_type": "markdown",
      "source": [],
      "metadata": {
        "id": "K3IH7Ppj2wot"
      }
    }
  ]
}